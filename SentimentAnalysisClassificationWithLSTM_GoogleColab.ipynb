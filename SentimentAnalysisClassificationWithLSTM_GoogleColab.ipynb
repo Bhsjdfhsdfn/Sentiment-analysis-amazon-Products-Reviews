{
 "cells": [
  {
   "cell_type": "code",
   "execution_count": 1,
   "metadata": {
    "colab": {
     "autoexec": {
      "startup": false,
      "wait_interval": 0
     },
     "base_uri": "https://localhost:8080/",
     "height": 262,
     "output_extras": [
      {
       "item_id": 1
      }
     ]
    },
    "colab_type": "code",
    "executionInfo": {
     "elapsed": 1548,
     "status": "ok",
     "timestamp": 1521462687434,
     "user": {
      "displayName": "Ala Bayoudh",
      "photoUrl": "https://lh3.googleusercontent.com/a/default-user=s128",
      "userId": "112506902794522806974"
     },
     "user_tz": -120
    },
    "id": "k2YrqT9OPT8m",
    "outputId": "826b753d-25b6-4e7b-f15f-a10e3ea055e8"
   },
   "outputs": [
    {
     "data": {
      "text/plain": [
       "[name: \"/device:CPU:0\"\n",
       " device_type: \"CPU\"\n",
       " memory_limit: 268435456\n",
       " locality {\n",
       " }\n",
       " incarnation: 6475736228652129007, name: \"/device:GPU:0\"\n",
       " device_type: \"GPU\"\n",
       " memory_limit: 255459328\n",
       " locality {\n",
       "   bus_id: 1\n",
       " }\n",
       " incarnation: 18289126060890384402\n",
       " physical_device_desc: \"device: 0, name: Tesla K80, pci bus id: 0000:00:04.0, compute capability: 3.7\"]"
      ]
     },
     "execution_count": 1,
     "metadata": {
      "tags": []
     },
     "output_type": "execute_result"
    }
   ],
   "source": [
    "from tensorflow.python.client import device_lib\n",
    "device_lib.list_local_devices()"
   ]
  },
  {
   "cell_type": "code",
   "execution_count": 0,
   "metadata": {
    "colab": {
     "autoexec": {
      "startup": false,
      "wait_interval": 0
     }
    },
    "colab_type": "code",
    "collapsed": true,
    "id": "2vaAfxgwxbhC"
   },
   "outputs": [],
   "source": [
    "import gensim, logging\n",
    "from gensim.models.word2vec import Word2Vec "
   ]
  },
  {
   "cell_type": "code",
   "execution_count": 42,
   "metadata": {
    "colab": {
     "autoexec": {
      "startup": false,
      "wait_interval": 0
     },
     "base_uri": "https://localhost:8080/",
     "height": 187,
     "output_extras": [
      {
       "item_id": 4
      }
     ]
    },
    "colab_type": "code",
    "executionInfo": {
     "elapsed": 11288,
     "status": "ok",
     "timestamp": 1521472191948,
     "user": {
      "displayName": "Ala Bayoudh",
      "photoUrl": "https://lh3.googleusercontent.com/a/default-user=s128",
      "userId": "112506902794522806974"
     },
     "user_tz": -120
    },
    "id": "TYWMYqoAVui6",
    "outputId": "bc7eaa5e-701a-48c8-f5e6-87a90b60e418"
   },
   "outputs": [
    {
     "name": "stdout",
     "output_type": "stream",
     "text": [
      "Collecting pickle\n",
      "\u001b[31m  Could not find a version that satisfies the requirement pickle (from versions: )\u001b[0m\n",
      "\u001b[31mNo matching distribution found for pickle\u001b[0m\n",
      "title: Documents.pickle, id: 1lUEORk5uwHRm6JkTYoGAK3JaRBd7FU9k\n",
      "downloading to /content/data/Documents.pickle\n",
      "title: model.bin, id: 1xjpW0CDroJyCC_RYI5CroSoZ6MosAZlL\n",
      "downloading to /content/data/model.bin\n",
      "title: y_train.npy, id: 1WV2aWz1yjPOkrnKqpQX2KYN4S5WcjrL2\n",
      "downloading to /content/data/y_train.npy\n"
     ]
    }
   ],
   "source": [
    "!pip install -U -q PyDrive\n",
    "!pip install pickle\n",
    "import os\n",
    "from pydrive.auth import GoogleAuth\n",
    "from pydrive.drive import GoogleDrive\n",
    "from google.colab import auth\n",
    "from oauth2client.client import GoogleCredentials\n",
    "import pickle\n",
    "\n",
    "# 1. Authenticate and create the PyDrive client.\n",
    "auth.authenticate_user()\n",
    "gauth = GoogleAuth()\n",
    "gauth.credentials = GoogleCredentials.get_application_default()\n",
    "drive = GoogleDrive(gauth)\n",
    "\n",
    "# choose a local (colab) directory to store the data.\n",
    "local_download_path = os.path.expanduser('~/data')\n",
    "try:\n",
    "  os.makedirs(local_download_path)\n",
    "except: pass\n",
    "\n",
    "# 2. Auto-iterate using the query syntax\n",
    "#    https://developers.google.com/drive/v2/web/search-parameters\n",
    "file_list = drive.ListFile(\n",
    "    {'q': \"'1S96PP4Pe_LxahlU-Co8foL2DzZE2bKo9' in parents\"}).GetList()\n",
    "\n",
    "for f in file_list:\n",
    "  # 3. Create & download by id.\n",
    "  print('title: %s, id: %s' % (f['title'], f['id']))\n",
    "  fname = os.path.join(local_download_path, f['title'])\n",
    "  print('downloading to {}'.format(fname))\n",
    "  f_ = drive.CreateFile({'id': f['id']})\n",
    "  f_.GetContentFile(fname)\n",
    "  if fname == '/content/data/model.bin':\n",
    "    model = Word2Vec.load(fname) #word2vec model\n",
    "  if fname == '/content/data/Documents.pickle':\n",
    "    with open(fname, 'rb') as f:\n",
    "      Documents = pickle.load(f)\n",
    "  \n",
    "    \n",
    "\n"
   ]
  },
  {
   "cell_type": "markdown",
   "metadata": {
    "colab_type": "text",
    "id": "wPeyAm5iymxk"
   },
   "source": [
    "# Load model Word2Vec"
   ]
  },
  {
   "cell_type": "code",
   "execution_count": 41,
   "metadata": {
    "colab": {
     "autoexec": {
      "startup": false,
      "wait_interval": 0
     },
     "base_uri": "https://localhost:8080/",
     "height": 395,
     "output_extras": [
      {
       "item_id": 1
      },
      {
       "item_id": 2
      }
     ]
    },
    "colab_type": "code",
    "executionInfo": {
     "elapsed": 2622,
     "status": "ok",
     "timestamp": 1521471588274,
     "user": {
      "displayName": "Ala Bayoudh",
      "photoUrl": "https://lh3.googleusercontent.com/a/default-user=s128",
      "userId": "112506902794522806974"
     },
     "user_tz": -120
    },
    "id": "7wlT9XIAmyLS",
    "outputId": "31677182-ee82-4bfb-daed-2b709e3e6b41"
   },
   "outputs": [
    {
     "name": "stdout",
     "output_type": "stream",
     "text": [
      "[-1.7942369  -0.33382452  0.5339357  -1.4902467   2.1332428  -1.0774956\n",
      " -0.21262288  0.34546664  0.18661968  0.5688681  -0.42535612 -1.4686878\n",
      "  0.93791354 -2.3718512  -0.70141095 -0.9795086  -0.20312025 -1.0589772\n",
      "  0.24206859 -1.1336994   1.6416202  -0.6261653   0.84927803 -0.4769663\n",
      "  0.9985494   2.1509867  -1.1989815  -0.41598585 -0.09528159 -0.7134422\n",
      "  1.7122741   0.5545024   1.277535    1.1946003   0.40057173  0.09237026\n",
      "  0.4424268   1.0867667   0.90509695 -0.19481269  0.91103834  1.1511343\n",
      " -0.06785039 -1.4012144  -1.4653159   2.5017827  -0.34803048  0.43969256\n",
      " -0.88642263  0.0435985   0.38556442 -0.5132431   0.47357002  0.9714809\n",
      " -1.6138848   1.6057731  -1.0455496  -0.12987329 -0.04974201  1.3797334\n",
      " -0.5297085  -1.210395   -0.49806824  2.032588    1.1804183  -0.10756348\n",
      " -0.62049466  0.31814304  0.93198586 -0.41446197 -0.50262237  0.6320385\n",
      "  0.2493732   1.0782746   0.12296637 -0.33538577 -0.5217311  -1.2326243\n",
      " -0.45114192 -1.5398091  -0.46345225  2.1170738   0.02449238 -0.39949843\n",
      "  0.2740543   0.42163128 -0.11416981  1.0085219  -0.1488119  -0.6154405\n",
      " -0.9643602   1.5402884   1.0199872   0.38207138 -0.2976515  -0.10284822\n",
      "  0.42682004  0.0925106  -0.1790923  -0.11463826]\n"
     ]
    },
    {
     "name": "stderr",
     "output_type": "stream",
     "text": [
      "/usr/local/lib/python3.6/dist-packages/ipykernel_launcher.py:1: DeprecationWarning: Call to deprecated `__getitem__` (Method will be removed in 4.0.0, use self.wv.__getitem__() instead).\n",
      "  \"\"\"Entry point for launching an IPython kernel.\n"
     ]
    }
   ],
   "source": [
    "print(model['good'])"
   ]
  },
  {
   "cell_type": "markdown",
   "metadata": {
    "colab_type": "text",
    "id": "Pu3f0AGNz-JS"
   },
   "source": [
    "# Load Document"
   ]
  },
  {
   "cell_type": "code",
   "execution_count": 45,
   "metadata": {
    "colab": {
     "autoexec": {
      "startup": false,
      "wait_interval": 0
     },
     "base_uri": "https://localhost:8080/",
     "height": 36,
     "output_extras": [
      {
       "item_id": 1
      }
     ]
    },
    "colab_type": "code",
    "executionInfo": {
     "elapsed": 2550,
     "status": "ok",
     "timestamp": 1521472319436,
     "user": {
      "displayName": "Ala Bayoudh",
      "photoUrl": "https://lh3.googleusercontent.com/a/default-user=s128",
      "userId": "112506902794522806974"
     },
     "user_tz": -120
    },
    "id": "TPnmuhKgz27I",
    "outputId": "c62414d8-4254-44f5-8ae7-b0668f8f471d"
   },
   "outputs": [
    {
     "name": "stdout",
     "output_type": "stream",
     "text": [
      "(['This', 'cd', 'storage', 'unit', 'isnt', 'greatest', 'cd', 'rack', 'want', 'something', 'job', 'isnt', 'costly', 'thing', 'made', 'plasti'], 'neg')\n"
     ]
    }
   ],
   "source": [
    "print(Documents[1])"
   ]
  },
  {
   "cell_type": "markdown",
   "metadata": {
    "colab_type": "text",
    "id": "yPvYyl110Sse"
   },
   "source": [
    "### Prepare our input this time :\n",
    "-  the Training shape will be (M,100,n) where M is number of **exemple** ,100 each word dimension and n is the number of words in each sentence"
   ]
  },
  {
   "cell_type": "code",
   "execution_count": 46,
   "metadata": {
    "colab": {
     "autoexec": {
      "startup": false,
      "wait_interval": 0
     },
     "base_uri": "https://localhost:8080/",
     "height": 130,
     "output_extras": [
      {
       "item_id": 1
      }
     ]
    },
    "colab_type": "code",
    "executionInfo": {
     "elapsed": 3058,
     "status": "ok",
     "timestamp": 1521472333008,
     "user": {
      "displayName": "Ala Bayoudh",
      "photoUrl": "https://lh3.googleusercontent.com/a/default-user=s128",
      "userId": "112506902794522806974"
     },
     "user_tz": -120
    },
    "id": "CZtElchjm0Zk",
    "outputId": "99583bb2-233c-4261-dcc3-3c242281ed0a"
   },
   "outputs": [
    {
     "name": "stdout",
     "output_type": "stream",
     "text": [
      "Max length sentence is : 506 Min length sentence is : 2\n",
      "Sentence with more than 50 word  8366\n",
      "Sentence with more than 100 word  1373\n",
      "Sentence with more than 200 word  92\n",
      "Sentence with more than 300 word  18\n",
      "Sentence with more than 400 word  6\n"
     ]
    }
   ],
   "source": [
    "def get_Max_Min_length_Sent():\n",
    "    Max = 0\n",
    "    Min = 10\n",
    "    CountSup50 = 0\n",
    "    CountSup100 = 0\n",
    "    CountSup200 = 0\n",
    "    CountSup300 = 0\n",
    "    CountSup400 = 0\n",
    "    for S,t in Documents:\n",
    "        if len(S) > Max:\n",
    "            Max = len(S)\n",
    "        if len(S) < Min :\n",
    "            Min = len(S)\n",
    "        if len(S) > 50:\n",
    "            CountSup50 +=1\n",
    "        if len(S) > 100:\n",
    "            CountSup100 +=1\n",
    "        if len(S) >200 :\n",
    "            CountSup200 +=1\n",
    "        if len(S) > 300:\n",
    "            CountSup300 +=1\n",
    "        if len(S) >400 :\n",
    "            CountSup400 +=1\n",
    "            \n",
    "    return Max,Min,CountSup50,CountSup100,CountSup200,CountSup300,CountSup400\n",
    "\n",
    "Max,Min,CountSup50,CountSup100,CountSup200,CountSup300,CountSup400 = get_Max_Min_length_Sent()\n",
    "print(\"Max length sentence is :\",Max,\"Min length sentence is :\",Min)\n",
    "print(\"Sentence with more than 50 word \",CountSup50)\n",
    "print(\"Sentence with more than 100 word \",CountSup100)\n",
    "print(\"Sentence with more than 200 word \",CountSup200)\n",
    "print(\"Sentence with more than 300 word \",CountSup300)\n",
    "print(\"Sentence with more than 400 word \",CountSup400)\n",
    "\n"
   ]
  },
  {
   "cell_type": "markdown",
   "metadata": {
    "colab_type": "text",
    "id": "EdvgVOmh0bEi"
   },
   "source": [
    "### fix_sentence_length is a function to fix the size of sentences to a fixed size to feed them into the neural net with specific length sentences with length less than that will be extended with zeros this process don't affect the alogrithme and sentences with length more that the specified length will be truncated"
   ]
  },
  {
   "cell_type": "code",
   "execution_count": 47,
   "metadata": {
    "colab": {
     "autoexec": {
      "startup": false,
      "wait_interval": 0
     },
     "base_uri": "https://localhost:8080/",
     "height": 56,
     "output_extras": [
      {
       "item_id": 1
      }
     ]
    },
    "colab_type": "code",
    "executionInfo": {
     "elapsed": 2720,
     "status": "ok",
     "timestamp": 1521472366592,
     "user": {
      "displayName": "Ala Bayoudh",
      "photoUrl": "https://lh3.googleusercontent.com/a/default-user=s128",
      "userId": "112506902794522806974"
     },
     "user_tz": -120
    },
    "id": "BVqmVN0I0brI",
    "outputId": "ad02ffaa-06e2-4cb4-9144-00edcaec51e8"
   },
   "outputs": [
    {
     "name": "stdout",
     "output_type": "stream",
     "text": [
      "[2, 5, 4, 8, 7, [0, 0, 0, 0, 0, 0, 0, 0, 0, 0, 0, 0, 0, 0, 0, 0, 0, 0, 0, 0, 0, 0, 0, 0, 0, 0, 0, 0, 0, 0, 0, 0, 0, 0, 0, 0, 0, 0, 0, 0, 0, 0, 0, 0, 0, 0, 0, 0, 0, 0, 0, 0, 0, 0, 0, 0, 0, 0, 0, 0, 0, 0, 0, 0, 0, 0, 0, 0, 0, 0, 0, 0, 0, 0, 0, 0, 0, 0, 0, 0, 0, 0, 0, 0, 0, 0, 0, 0, 0, 0, 0, 0, 0, 0, 0, 0, 0, 0, 0, 0], [0, 0, 0, 0, 0, 0, 0, 0, 0, 0, 0, 0, 0, 0, 0, 0, 0, 0, 0, 0, 0, 0, 0, 0, 0, 0, 0, 0, 0, 0, 0, 0, 0, 0, 0, 0, 0, 0, 0, 0, 0, 0, 0, 0, 0, 0, 0, 0, 0, 0, 0, 0, 0, 0, 0, 0, 0, 0, 0, 0, 0, 0, 0, 0, 0, 0, 0, 0, 0, 0, 0, 0, 0, 0, 0, 0, 0, 0, 0, 0, 0, 0, 0, 0, 0, 0, 0, 0, 0, 0, 0, 0, 0, 0, 0, 0, 0, 0, 0, 0]]\n"
     ]
    }
   ],
   "source": [
    "def fix_sentence_length(length,exemple):\n",
    "    if len(exemple) > length:\n",
    "        exemple = exemple[:length]\n",
    "    elif len(exemple) < length:\n",
    "        for i in range(length - len(exemple)):\n",
    "            listzeros = [0] * 100\n",
    "            exemple.append(listzeros)\n",
    "    return exemple\n",
    "ex = [2,5,4,8,7]\n",
    "ex = fix_sentence_length(7,ex)\n",
    "print(ex) "
   ]
  },
  {
   "cell_type": "code",
   "execution_count": 0,
   "metadata": {
    "colab": {
     "autoexec": {
      "startup": false,
      "wait_interval": 0
     }
    },
    "colab_type": "code",
    "collapsed": true,
    "id": "AjZc0AIE0dx2"
   },
   "outputs": [],
   "source": [
    "def Sent_Embeding_sequence(words,Documents):\n",
    "    X_SentsEmb = []\n",
    "    y_SentsEmb = []\n",
    "    #on Va récuperer l'embeding de chaque sentence avec l'average des vecteur qui le compose\n",
    "    for S,t in Documents: #S est la phrase , t est la class\n",
    "        #Average of embeding of all words in sentence\n",
    "        Sent = []\n",
    "        Sent = [list(model[m]) for m in S]\n",
    "#        if len(Sent) < 100:\n",
    "#            for i in range(100 - len(Sent)):\n",
    "#                Sent.append(0) # pour avoir une longeur standart de 100 mots par Sent\n",
    "#        else :\n",
    "#            Sent = Sent[:100]\n",
    "        #Add Sentence Vector to list\n",
    "        Sent = fix_sentence_length(100,Sent)\n",
    "        X_SentsEmb.append(Sent)\n",
    "        #Add label to y_SentEmb\n",
    "        if t == 'neg':\n",
    "            y_SentsEmb.append(0)\n",
    "        elif t == 'pos':\n",
    "            y_SentsEmb.append(1)\n",
    "        else:\n",
    "            print('No match label !!! ',t)\n",
    "    return X_SentsEmb,y_SentsEmb"
   ]
  },
  {
   "cell_type": "code",
   "execution_count": 49,
   "metadata": {
    "colab": {
     "autoexec": {
      "startup": false,
      "wait_interval": 0
     },
     "base_uri": "https://localhost:8080/",
     "height": 75,
     "output_extras": [
      {
       "item_id": 1
      }
     ]
    },
    "colab_type": "code",
    "executionInfo": {
     "elapsed": 43612,
     "status": "ok",
     "timestamp": 1521472457822,
     "user": {
      "displayName": "Ala Bayoudh",
      "photoUrl": "https://lh3.googleusercontent.com/a/default-user=s128",
      "userId": "112506902794522806974"
     },
     "user_tz": -120
    },
    "id": "0xuao2CO0mY2",
    "outputId": "971743c2-ad66-4731-a5fb-ff5ab69ac421"
   },
   "outputs": [
    {
     "name": "stderr",
     "output_type": "stream",
     "text": [
      "/usr/local/lib/python3.6/dist-packages/ipykernel_launcher.py:8: DeprecationWarning: Call to deprecated `__getitem__` (Method will be removed in 4.0.0, use self.wv.__getitem__() instead).\n",
      "  \n"
     ]
    }
   ],
   "source": [
    "words = list(model.wv.vocab)\n",
    "X,Y = Sent_Embeding_sequence(words,Documents)"
   ]
  },
  {
   "cell_type": "code",
   "execution_count": 50,
   "metadata": {
    "colab": {
     "autoexec": {
      "startup": false,
      "wait_interval": 0
     },
     "base_uri": "https://localhost:8080/",
     "height": 36,
     "output_extras": [
      {
       "item_id": 1
      }
     ]
    },
    "colab_type": "code",
    "executionInfo": {
     "elapsed": 39996,
     "status": "ok",
     "timestamp": 1521472538824,
     "user": {
      "displayName": "Ala Bayoudh",
      "photoUrl": "https://lh3.googleusercontent.com/a/default-user=s128",
      "userId": "112506902794522806974"
     },
     "user_tz": -120
    },
    "id": "HzMTSx1H0qEq",
    "outputId": "417a894e-859c-4afa-cda0-1be4e5396340"
   },
   "outputs": [
    {
     "name": "stdout",
     "output_type": "stream",
     "text": [
      "X_train Shape (38252, 100, 100)\n"
     ]
    }
   ],
   "source": [
    "X = np.array(X)\n",
    "#lista = np.reshape(lista, (len(lista),2, 3))\n",
    "print(\"X Shape\",X.shape)\n"
   ]
  },
  {
   "cell_type": "code",
   "execution_count": 0,
   "metadata": {
    "colab": {
     "autoexec": {
      "startup": false,
      "wait_interval": 0
     }
    },
    "colab_type": "code",
    "collapsed": true,
    "id": "5TC7flrNM35m"
   },
   "outputs": [],
   "source": [
    "from sklearn.model_selection import train_test_split\n",
    "#train test\n",
    "X_train, X_test, y_train, y_test = train_test_split(X, Y, test_size=0.15, random_state=1)\n",
    "#train dev\n",
    "X_train, X_val, y_train, y_val = train_test_split(X_train, y_train, test_size=0.15, random_state=1)"
   ]
  },
  {
   "cell_type": "code",
   "execution_count": 52,
   "metadata": {
    "colab": {
     "autoexec": {
      "startup": false,
      "wait_interval": 0
     },
     "base_uri": "https://localhost:8080/",
     "height": 130,
     "output_extras": [
      {
       "item_id": 1
      }
     ]
    },
    "colab_type": "code",
    "executionInfo": {
     "elapsed": 542,
     "status": "ok",
     "timestamp": 1521478806012,
     "user": {
      "displayName": "Ala Bayoudh",
      "photoUrl": "https://lh3.googleusercontent.com/a/default-user=s128",
      "userId": "112506902794522806974"
     },
     "user_tz": -120
    },
    "id": "R7puCswONBpw",
    "outputId": "548b7c85-6658-45db-bdb7-1b9c41783957"
   },
   "outputs": [
    {
     "name": "stdout",
     "output_type": "stream",
     "text": [
      "length X_train : 27636\n",
      "length y_train : 27636\n",
      "length X_test : 5738\n",
      "length y_test : 5738\n",
      "length X_val : 4878\n",
      "length y_val : 4878\n"
     ]
    }
   ],
   "source": [
    "print('length X_train :',len(X_train))\n",
    "print('length y_train :',len(y_train))\n",
    "print('length X_test :',len(X_test))\n",
    "print('length y_test :',len(y_test))\n",
    "print('length X_val :',len(X_val))\n",
    "print('length y_val :',len(y_val))"
   ]
  },
  {
   "cell_type": "markdown",
   "metadata": {
    "colab_type": "text",
    "id": "gKiYDSOI7_Kk"
   },
   "source": [
    "## LSTM\n",
    "#### On Batch Size\n",
    "\n",
    "A benefit of using Keras is that it is built on top of symbolic mathematical libraries such as TensorFlow and Theano for fast and efficient computation. This is needed with large neural networks.\n",
    "\n",
    "A downside of using these efficient libraries is that you must define the scope of your data upfront and for all time. Specifically, the batch size.\n",
    "\n",
    "The batch size limits the number of samples to be shown to the network before a weight update can be performed. This same limitation is then imposed when making predictions with the fit model.\n",
    "\n",
    "Specifically, the batch size used when fitting your model controls how many predictions you must make at a time.\n",
    "\n",
    "This is often not a problem when you want to make the same number predictions at a time as the batch size used during training.\n",
    "\n",
    "#### Solution 1: Online Learning (Batch Size = 1)\n",
    "\n",
    "One solution to this problem is to fit the model using online learning.\n",
    "\n",
    "This is where the batch size is set to a value of 1 and the network weights are updated after each training example.\n",
    "\n",
    "This can have the effect of faster learning, but also adds instability to the learning process as the weights widely vary with each batch.\n",
    "\n",
    "Nevertheless, this will allow us to make one-step forecasts on the problem. The only change required is setting n_batch to 1 as follows:"
   ]
  },
  {
   "cell_type": "code",
   "execution_count": 58,
   "metadata": {
    "colab": {
     "autoexec": {
      "startup": false,
      "wait_interval": 0
     },
     "base_uri": "https://localhost:8080/",
     "height": 36,
     "output_extras": [
      {
       "item_id": 1
      }
     ]
    },
    "colab_type": "code",
    "executionInfo": {
     "elapsed": 862,
     "status": "ok",
     "timestamp": 1521479400990,
     "user": {
      "displayName": "Ala Bayoudh",
      "photoUrl": "https://lh3.googleusercontent.com/a/default-user=s128",
      "userId": "112506902794522806974"
     },
     "user_tz": -120
    },
    "id": "86CUXRKbPSV-",
    "outputId": "99b57520-2521-4e80-eb9a-5beb7a54699d"
   },
   "outputs": [
    {
     "data": {
      "text/plain": [
       "27636"
      ]
     },
     "execution_count": 58,
     "metadata": {
      "tags": []
     },
     "output_type": "execute_result"
    }
   ],
   "source": [
    "X_train.shape[0]"
   ]
  },
  {
   "cell_type": "code",
   "execution_count": 89,
   "metadata": {
    "colab": {
     "autoexec": {
      "startup": false,
      "wait_interval": 0
     },
     "base_uri": "https://localhost:8080/",
     "height": 301,
     "output_extras": [
      {
       "item_id": 1
      },
      {
       "item_id": 2
      }
     ]
    },
    "colab_type": "code",
    "executionInfo": {
     "elapsed": 902,
     "status": "ok",
     "timestamp": 1521483624900,
     "user": {
      "displayName": "Ala Bayoudh",
      "photoUrl": "https://lh3.googleusercontent.com/a/default-user=s128",
      "userId": "112506902794522806974"
     },
     "user_tz": -120
    },
    "id": "k2GqjpPO5N1o",
    "outputId": "dd6dc84c-e786-434c-ff9a-1515dbb12ef2"
   },
   "outputs": [
    {
     "name": "stderr",
     "output_type": "stream",
     "text": [
      "/usr/local/lib/python3.6/dist-packages/ipykernel_launcher.py:13: UserWarning: Update your `LSTM` call to the Keras 2 API: `LSTM(100, batch_input_shape=(1, 100, 1..., dropout=0.2, recurrent_dropout=0.2)`\n",
      "  del sys.path[0]\n"
     ]
    },
    {
     "name": "stdout",
     "output_type": "stream",
     "text": [
      "_________________________________________________________________\n",
      "Layer (type)                 Output Shape              Param #   \n",
      "=================================================================\n",
      "lstm_11 (LSTM)               (1, 100)                  80400     \n",
      "_________________________________________________________________\n",
      "dense_11 (Dense)             (1, 1)                    101       \n",
      "=================================================================\n",
      "Total params: 80,501\n",
      "Trainable params: 80,501\n",
      "Non-trainable params: 0\n",
      "_________________________________________________________________\n",
      "None\n"
     ]
    }
   ],
   "source": [
    "from keras.models import Sequential\n",
    "from keras.layers import Embedding,LSTM\n",
    "from keras.layers.core import Dense,Dropout\n",
    "from keras.wrappers.scikit_learn import KerasClassifier\n",
    "from keras.utils import np_utils\n",
    "from keras.optimizers import SGD,Adam,Nadam\n",
    "from keras import callbacks\n",
    "embed_dim = 100\n",
    "lstm_out = 100\n",
    "batch_size = 1\n",
    "\n",
    "model = Sequential()\n",
    "model.add(LSTM(lstm_out, batch_input_shape=(batch_size, X.shape[1], X.shape[2]), dropout_U = 0.2, dropout_W = 0.2))\n",
    "model.add(Dense(1,activation='sigmoid'))\n",
    "model.compile(loss='mean_squared_error',\n",
    "              optimizer='adam',\n",
    "              metrics=['binary_accuracy'])\n",
    "print(model.summary())"
   ]
  },
  {
   "cell_type": "code",
   "execution_count": 0,
   "metadata": {
    "colab": {
     "autoexec": {
      "startup": false,
      "wait_interval": 0
     }
    },
    "colab_type": "code",
    "collapsed": true,
    "id": "sTPHl8fyOT78"
   },
   "outputs": [],
   "source": [
    "history = model.fit(X_train, y_train, batch_size = batch_size, nb_epoch = 100)"
   ]
  },
  {
   "cell_type": "code",
   "execution_count": 80,
   "metadata": {
    "colab": {
     "autoexec": {
      "startup": false,
      "wait_interval": 0
     },
     "base_uri": "https://localhost:8080/",
     "height": 36,
     "output_extras": [
      {
       "item_id": 23
      }
     ]
    },
    "colab_type": "code",
    "executionInfo": {
     "elapsed": 8060,
     "status": "ok",
     "timestamp": 1521482664628,
     "user": {
      "displayName": "Ala Bayoudh",
      "photoUrl": "https://lh3.googleusercontent.com/a/default-user=s128",
      "userId": "112506902794522806974"
     },
     "user_tz": -120
    },
    "id": "Rv7ifTkXOfbs",
    "outputId": "0fc7dcb5-e1fc-48ad-8b6d-f2556316aa09"
   },
   "outputs": [
    {
     "name": "stdout",
     "output_type": "stream",
     "text": [
      "4878/4878 [==============================] - 8s 2ms/step\n"
     ]
    }
   ],
   "source": [
    "score = model.evaluate(np.array(X_val),y_val)"
   ]
  },
  {
   "cell_type": "code",
   "execution_count": 81,
   "metadata": {
    "colab": {
     "autoexec": {
      "startup": false,
      "wait_interval": 0
     },
     "base_uri": "https://localhost:8080/",
     "height": 36,
     "output_extras": [
      {
       "item_id": 1
      }
     ]
    },
    "colab_type": "code",
    "executionInfo": {
     "elapsed": 1198,
     "status": "ok",
     "timestamp": 1521482669638,
     "user": {
      "displayName": "Ala Bayoudh",
      "photoUrl": "https://lh3.googleusercontent.com/a/default-user=s128",
      "userId": "112506902794522806974"
     },
     "user_tz": -120
    },
    "id": "V2poPysdbv5W",
    "outputId": "6eaec7e9-c044-46c1-f00a-55a594150f8b"
   },
   "outputs": [
    {
     "data": {
      "text/plain": [
       "[0.1711017154997223, 0.7408774087496496]"
      ]
     },
     "execution_count": 81,
     "metadata": {
      "tags": []
     },
     "output_type": "execute_result"
    }
   ],
   "source": [
    "score"
   ]
  },
  {
   "cell_type": "code",
   "execution_count": 82,
   "metadata": {
    "colab": {
     "autoexec": {
      "startup": false,
      "wait_interval": 0
     },
     "base_uri": "https://localhost:8080/",
     "height": 298,
     "output_extras": [
      {
       "item_id": 1
      }
     ]
    },
    "colab_type": "code",
    "executionInfo": {
     "elapsed": 634,
     "status": "ok",
     "timestamp": 1521482687512,
     "user": {
      "displayName": "Ala Bayoudh",
      "photoUrl": "https://lh3.googleusercontent.com/a/default-user=s128",
      "userId": "112506902794522806974"
     },
     "user_tz": -120
    },
    "id": "dlEaw1qBWaag",
    "outputId": "7c36f424-8085-445e-938b-9a194a34a7a6"
   },
   "outputs": [
    {
     "data": {
      "image/png": "[encoded data removed]",
      "text/plain": [
       "<matplotlib.figure.Figure at 0x7fabfe8692e8>"
      ]
     },
     "metadata": {
      "tags": []
     },
     "output_type": "display_data"
    }
   ],
   "source": [
    "from matplotlib import pyplot as plt\n",
    "plt.style.use('ggplot')\n",
    "%matplotlib inline\n",
    "\n",
    "plt.plot(history.history['loss'])\n",
    "plt.title('model loss')\n",
    "plt.ylabel('loss')\n",
    "plt.xlabel('epoch')\n",
    "plt.legend(['train'], loc='upper left')\n",
    "plt.show()"
   ]
  },
  {
   "cell_type": "markdown",
   "metadata": {
    "colab_type": "text",
    "id": "lPsN8yZsets-"
   },
   "source": [
    "### Solution 2: Copy Weights\n",
    "\n",
    "A better solution is to use different batch sizes for training and predicting."
   ]
  },
  {
   "cell_type": "code",
   "execution_count": 0,
   "metadata": {
    "colab": {
     "autoexec": {
      "startup": false,
      "wait_interval": 0
     },
     "base_uri": "https://localhost:8080/",
     "height": 3924,
     "output_extras": [
      {
       "item_id": 1
      },
      {
       "item_id": 2
      },
      {
       "item_id": 3
      },
      {
       "item_id": 254
      },
      {
       "item_id": 447
      },
      {
       "item_id": 677
      },
      {
       "item_id": 831
      },
      {
       "item_id": 1009
      },
      {
       "item_id": 1164
      },
      {
       "item_id": 1286
      },
      {
       "item_id": 1398
      },
      {
       "item_id": 1559
      },
      {
       "item_id": 1672
      },
      {
       "item_id": 1825
      },
      {
       "item_id": 1918
      },
      {
       "item_id": 1986
      },
      {
       "item_id": 2114
      },
      {
       "item_id": 2192
      },
      {
       "item_id": 2254
      },
      {
       "item_id": 2315
      },
      {
       "item_id": 2377
      },
      {
       "item_id": 2445
      },
      {
       "item_id": 2567
      },
      {
       "item_id": 2650
      },
      {
       "item_id": 2768
      },
      {
       "item_id": 2871
      },
      {
       "item_id": 3142
      },
      {
       "item_id": 3422
      },
      {
       "item_id": 3698
      },
      {
       "item_id": 3978
      },
      {
       "item_id": 4260
      },
      {
       "item_id": 4532
      },
      {
       "item_id": 4811
      },
      {
       "item_id": 5092
      },
      {
       "item_id": 5360
      },
      {
       "item_id": 5628
      },
      {
       "item_id": 5897
      },
      {
       "item_id": 6166
      },
      {
       "item_id": 6433
      },
      {
       "item_id": 6700
      },
      {
       "item_id": 6968
      },
      {
       "item_id": 7232
      },
      {
       "item_id": 7502
      },
      {
       "item_id": 7767
      },
      {
       "item_id": 8034
      },
      {
       "item_id": 8298
      },
      {
       "item_id": 8566
      },
      {
       "item_id": 8816
      },
      {
       "item_id": 9083
      },
      {
       "item_id": 9314
      }
     ]
    },
    "colab_type": "code",
    "id": "x-D2mOzdesc8",
    "outputId": "44f92b57-03a4-4914-95d5-aedc37aabc4e"
   },
   "outputs": [
    {
     "name": "stderr",
     "output_type": "stream",
     "text": [
      "/usr/local/lib/python3.6/dist-packages/ipykernel_launcher.py:6: UserWarning: Update your `LSTM` call to the Keras 2 API: `LSTM(100, input_shape=(100, 100), dropout=0.2, recurrent_dropout=0.2)`\n",
      "  \n"
     ]
    },
    {
     "name": "stdout",
     "output_type": "stream",
     "text": [
      "_________________________________________________________________\n",
      "Layer (type)                 Output Shape              Param #   \n",
      "=================================================================\n",
      "lstm_13 (LSTM)               (None, 100)               80400     \n",
      "_________________________________________________________________\n",
      "dense_13 (Dense)             (None, 1)                 101       \n",
      "=================================================================\n",
      "Total params: 80,501\n",
      "Trainable params: 80,501\n",
      "Non-trainable params: 0\n",
      "_________________________________________________________________\n",
      "None\n"
     ]
    },
    {
     "name": "stderr",
     "output_type": "stream",
     "text": [
      "/usr/local/lib/python3.6/dist-packages/keras/models.py:942: UserWarning: The `nb_epoch` argument in `fit` has been renamed `epochs`.\n",
      "  warnings.warn('The `nb_epoch` argument in `fit` '\n"
     ]
    },
    {
     "name": "stdout",
     "output_type": "stream",
     "text": [
      "Epoch 1/100\n",
      "27636/27636 [==============================] - 42s 2ms/step - loss: 0.2447 - binary_accuracy: 0.5763\n",
      "Epoch 2/100\n",
      "27636/27636 [==============================] - 41s 1ms/step - loss: 0.2420 - binary_accuracy: 0.5848\n",
      "Epoch 3/100\n",
      "10496/27636 [==========>...................] - ETA: 25s - loss: 0.2403 - binary_accuracy: 0.600727636/27636 [==============================] - 41s 2ms/step - loss: 0.2437 - binary_accuracy: 0.5816\n",
      "Epoch 4/100\n",
      "27636/27636 [==============================] - 41s 1ms/step - loss: 0.2445 - binary_accuracy: 0.5770\n",
      "Epoch 5/100\n",
      "16512/27636 [================>.............] - ETA: 16s - loss: 0.2439 - binary_accuracy: 0.577827636/27636 [==============================] - 41s 1ms/step - loss: 0.2440 - binary_accuracy: 0.5774\n",
      "Epoch 6/100\n",
      "27636/27636 [==============================] - 41s 1ms/step - loss: 0.2426 - binary_accuracy: 0.5801\n",
      "Epoch 7/100\n",
      "18304/27636 [==================>...........] - ETA: 13s - loss: 0.2287 - binary_accuracy: 0.624327636/27636 [==============================] - 41s 1ms/step - loss: 0.2239 - binary_accuracy: 0.6364\n",
      "Epoch 8/100\n",
      "27636/27636 [==============================] - 41s 1ms/step - loss: 0.2080 - binary_accuracy: 0.6713\n",
      "Epoch 9/100\n",
      "18304/27636 [==================>...........] - ETA: 13s - loss: 0.2026 - binary_accuracy: 0.679027636/27636 [==============================] - 41s 2ms/step - loss: 0.2016 - binary_accuracy: 0.6813\n",
      "Epoch 10/100\n",
      "27636/27636 [==============================] - 41s 1ms/step - loss: 0.1962 - binary_accuracy: 0.6962\n",
      "Epoch 11/100\n",
      "18560/27636 [===================>..........] - ETA: 13s - loss: 0.1921 - binary_accuracy: 0.700727636/27636 [==============================] - 41s 1ms/step - loss: 0.1925 - binary_accuracy: 0.7003\n",
      "Epoch 12/100\n",
      "27636/27636 [==============================] - 41s 1ms/step - loss: 0.1888 - binary_accuracy: 0.7064\n",
      "Epoch 13/100\n",
      "18560/27636 [===================>..........] - ETA: 13s - loss: 0.1848 - binary_accuracy: 0.717027636/27636 [==============================] - 41s 1ms/step - loss: 0.1850 - binary_accuracy: 0.7166\n",
      "Epoch 14/100\n",
      "27636/27636 [==============================] - 41s 1ms/step - loss: 0.1823 - binary_accuracy: 0.7218\n",
      "Epoch 15/100\n",
      "18304/27636 [==================>...........] - ETA: 14s - loss: 0.1781 - binary_accuracy: 0.727527636/27636 [==============================] - 41s 1ms/step - loss: 0.1772 - binary_accuracy: 0.7294\n",
      "Epoch 16/100\n",
      "27636/27636 [==============================] - 41s 1ms/step - loss: 0.1743 - binary_accuracy: 0.7364\n",
      "Epoch 17/100\n",
      "18432/27636 [===================>..........] - ETA: 13s - loss: 0.1696 - binary_accuracy: 0.743927636/27636 [==============================] - 41s 1ms/step - loss: 0.1709 - binary_accuracy: 0.7419\n",
      "Epoch 18/100\n",
      "27636/27636 [==============================] - 41s 1ms/step - loss: 0.1693 - binary_accuracy: 0.7462\n",
      "Epoch 19/100\n",
      "18432/27636 [===================>..........] - ETA: 13s - loss: 0.1652 - binary_accuracy: 0.753727636/27636 [==============================] - 41s 1ms/step - loss: 0.1651 - binary_accuracy: 0.7545\n",
      "Epoch 20/100\n",
      "27636/27636 [==============================] - 41s 1ms/step - loss: 0.1634 - binary_accuracy: 0.7567\n",
      "Epoch 21/100\n",
      "18304/27636 [==================>...........] - ETA: 13s - loss: 0.1593 - binary_accuracy: 0.768627636/27636 [==============================] - 41s 1ms/step - loss: 0.1609 - binary_accuracy: 0.7632\n",
      "Epoch 22/100\n",
      "27636/27636 [==============================] - 41s 1ms/step - loss: 0.1580 - binary_accuracy: 0.7651\n",
      "Epoch 23/100\n",
      "18176/27636 [==================>...........] - ETA: 14s - loss: 0.1570 - binary_accuracy: 0.770127636/27636 [==============================] - 41s 1ms/step - loss: 0.1561 - binary_accuracy: 0.7722\n",
      "Epoch 24/100\n",
      "27636/27636 [==============================] - 41s 1ms/step - loss: 0.1543 - binary_accuracy: 0.7740\n",
      "Epoch 25/100\n",
      "18304/27636 [==================>...........] - ETA: 13s - loss: 0.1518 - binary_accuracy: 0.780427636/27636 [==============================] - 41s 1ms/step - loss: 0.1520 - binary_accuracy: 0.7801\n",
      "Epoch 26/100\n",
      "27636/27636 [==============================] - 41s 1ms/step - loss: 0.1499 - binary_accuracy: 0.7788\n",
      "Epoch 27/100\n",
      "18560/27636 [===================>..........] - ETA: 13s - loss: 0.1484 - binary_accuracy: 0.783827636/27636 [==============================] - 41s 1ms/step - loss: 0.1488 - binary_accuracy: 0.7839\n",
      "Epoch 28/100\n",
      "27636/27636 [==============================] - 41s 1ms/step - loss: 0.1452 - binary_accuracy: 0.7903\n",
      "Epoch 29/100\n",
      "18304/27636 [==================>...........] - ETA: 13s - loss: 0.1440 - binary_accuracy: 0.792227636/27636 [==============================] - 41s 1ms/step - loss: 0.1439 - binary_accuracy: 0.7922\n",
      "Epoch 30/100\n",
      "27636/27636 [==============================] - 41s 1ms/step - loss: 0.1436 - binary_accuracy: 0.7940\n",
      "Epoch 31/100\n",
      "18432/27636 [===================>..........] - ETA: 13s - loss: 0.1412 - binary_accuracy: 0.796327636/27636 [==============================] - 41s 1ms/step - loss: 0.1409 - binary_accuracy: 0.7960\n",
      "Epoch 32/100\n",
      "27636/27636 [==============================] - 41s 1ms/step - loss: 0.1387 - binary_accuracy: 0.8023\n",
      "Epoch 33/100\n",
      "18304/27636 [==================>...........] - ETA: 13s - loss: 0.1385 - binary_accuracy: 0.802527636/27636 [==============================] - 41s 1ms/step - loss: 0.1375 - binary_accuracy: 0.8043\n",
      "Epoch 34/100\n",
      "27636/27636 [==============================] - 41s 1ms/step - loss: 0.1369 - binary_accuracy: 0.8044\n",
      "Epoch 35/100\n",
      "18304/27636 [==================>...........] - ETA: 13s - loss: 0.1359 - binary_accuracy: 0.805127636/27636 [==============================] - 41s 1ms/step - loss: 0.1366 - binary_accuracy: 0.8050\n",
      "Epoch 36/100\n",
      "27636/27636 [==============================] - 41s 1ms/step - loss: 0.1351 - binary_accuracy: 0.8078\n",
      "Epoch 37/100\n",
      "18304/27636 [==================>...........] - ETA: 13s - loss: 0.1306 - binary_accuracy: 0.814627636/27636 [==============================] - 41s 1ms/step - loss: 0.1317 - binary_accuracy: 0.8117\n",
      "Epoch 38/100\n",
      "27636/27636 [==============================] - 41s 1ms/step - loss: 0.1325 - binary_accuracy: 0.8119\n",
      "Epoch 39/100\n",
      "18432/27636 [===================>..........] - ETA: 13s - loss: 0.1297 - binary_accuracy: 0.814727636/27636 [==============================] - 41s 1ms/step - loss: 0.1309 - binary_accuracy: 0.8144\n",
      "Epoch 40/100\n",
      "27636/27636 [==============================] - 41s 1ms/step - loss: 0.1297 - binary_accuracy: 0.8159\n",
      "Epoch 41/100\n",
      "18432/27636 [===================>..........] - ETA: 13s - loss: 0.1281 - binary_accuracy: 0.818327636/27636 [==============================] - 41s 1ms/step - loss: 0.1297 - binary_accuracy: 0.8157\n",
      "Epoch 42/100\n",
      "27636/27636 [==============================] - 41s 1ms/step - loss: 0.1281 - binary_accuracy: 0.8186\n",
      "Epoch 43/100\n",
      "18304/27636 [==================>...........] - ETA: 13s - loss: 0.1257 - binary_accuracy: 0.823027636/27636 [==============================] - 41s 1ms/step - loss: 0.1261 - binary_accuracy: 0.8211\n",
      "Epoch 44/100\n",
      "27636/27636 [==============================] - 41s 1ms/step - loss: 0.1250 - binary_accuracy: 0.8253\n",
      "Epoch 45/100\n",
      "18048/27636 [==================>...........] - ETA: 14s - loss: 0.1236 - binary_accuracy: 0.826927636/27636 [==============================] - 41s 1ms/step - loss: 0.1241 - binary_accuracy: 0.8256\n",
      "Epoch 46/100\n",
      "27636/27636 [==============================] - 41s 1ms/step - loss: 0.1233 - binary_accuracy: 0.8256\n",
      "Epoch 47/100\n",
      "18304/27636 [==================>...........] - ETA: 13s - loss: 0.1209 - binary_accuracy: 0.829927636/27636 [==============================] - 41s 1ms/step - loss: 0.1217 - binary_accuracy: 0.8282\n",
      "Epoch 48/100\n",
      "27636/27636 [==============================] - 41s 1ms/step - loss: 0.1218 - binary_accuracy: 0.8295\n",
      "Epoch 49/100\n",
      "18560/27636 [===================>..........] - ETA: 13s - loss: 0.1212 - binary_accuracy: 0.829727636/27636 [==============================] - 41s 1ms/step - loss: 0.1208 - binary_accuracy: 0.8293\n",
      "Epoch 50/100\n",
      "27636/27636 [==============================] - 41s 1ms/step - loss: 0.1191 - binary_accuracy: 0.8324\n",
      "Epoch 51/100\n",
      "18816/27636 [===================>..........] - ETA: 13s - loss: 0.1194 - binary_accuracy: 0.832527636/27636 [==============================] - 41s 1ms/step - loss: 0.1196 - binary_accuracy: 0.8316\n",
      "Epoch 52/100\n",
      "27636/27636 [==============================] - 41s 1ms/step - loss: 0.1192 - binary_accuracy: 0.8318\n",
      "Epoch 53/100\n"
     ]
    },
    {
     "name": "stdout",
     "output_type": "stream",
     "text": [
      "18304/27636 [==================>...........] - ETA: 13s - loss: 0.1165 - binary_accuracy: 0.837527636/27636 [==============================] - 41s 1ms/step - loss: 0.1176 - binary_accuracy: 0.8350\n",
      "Epoch 54/100\n",
      "27636/27636 [==============================] - 41s 1ms/step - loss: 0.1162 - binary_accuracy: 0.8377\n",
      "Epoch 55/100\n",
      "18176/27636 [==================>...........] - ETA: 14s - loss: 0.1173 - binary_accuracy: 0.836727636/27636 [==============================] - 41s 1ms/step - loss: 0.1175 - binary_accuracy: 0.8367\n",
      "Epoch 56/100\n",
      "27636/27636 [==============================] - 41s 1ms/step - loss: 0.1143 - binary_accuracy: 0.8405\n",
      "Epoch 57/100\n",
      "18048/27636 [==================>...........] - ETA: 14s - loss: 0.1178 - binary_accuracy: 0.834527636/27636 [==============================] - 41s 1ms/step - loss: 0.1167 - binary_accuracy: 0.8368\n",
      "Epoch 58/100\n",
      "27636/27636 [==============================] - 41s 1ms/step - loss: 0.1124 - binary_accuracy: 0.8449\n",
      "Epoch 59/100\n",
      "18432/27636 [===================>..........] - ETA: 13s - loss: 0.1107 - binary_accuracy: 0.845927636/27636 [==============================] - 41s 1ms/step - loss: 0.1108 - binary_accuracy: 0.8452\n",
      "Epoch 60/100\n",
      "27636/27636 [==============================] - 41s 1ms/step - loss: 0.1115 - binary_accuracy: 0.8449\n",
      "Epoch 61/100\n",
      "17920/27636 [==================>...........] - ETA: 14s - loss: 0.1115 - binary_accuracy: 0.846527636/27636 [==============================] - 41s 1ms/step - loss: 0.1117 - binary_accuracy: 0.8456\n",
      "Epoch 62/100\n",
      "27636/27636 [==============================] - 41s 1ms/step - loss: 0.1109 - binary_accuracy: 0.8474\n",
      "Epoch 63/100\n",
      "18432/27636 [===================>..........] - ETA: 13s - loss: 0.1070 - binary_accuracy: 0.854927636/27636 [==============================] - 41s 1ms/step - loss: 0.1094 - binary_accuracy: 0.8512\n",
      "Epoch 64/100\n",
      "27636/27636 [==============================] - 41s 1ms/step - loss: 0.1105 - binary_accuracy: 0.8472\n",
      "Epoch 65/100\n",
      "17920/27636 [==================>...........] - ETA: 14s - loss: 0.1082 - binary_accuracy: 0.850527636/27636 [==============================] - 41s 1ms/step - loss: 0.1090 - binary_accuracy: 0.8494\n",
      "Epoch 66/100\n",
      "27636/27636 [==============================] - 41s 1ms/step - loss: 0.1082 - binary_accuracy: 0.8521\n",
      "Epoch 67/100\n",
      "17920/27636 [==================>...........] - ETA: 14s - loss: 0.1066 - binary_accuracy: 0.855127636/27636 [==============================] - 41s 1ms/step - loss: 0.1068 - binary_accuracy: 0.8544\n",
      "Epoch 68/100\n",
      "27636/27636 [==============================] - 41s 1ms/step - loss: 0.1081 - binary_accuracy: 0.8539\n",
      "Epoch 69/100\n",
      "17920/27636 [==================>...........] - ETA: 14s - loss: 0.1071 - binary_accuracy: 0.852427636/27636 [==============================] - 41s 1ms/step - loss: 0.1069 - binary_accuracy: 0.8527\n",
      "Epoch 70/100\n",
      "27636/27636 [==============================] - 41s 1ms/step - loss: 0.1050 - binary_accuracy: 0.8561\n",
      "Epoch 71/100\n",
      "18432/27636 [===================>..........] - ETA: 13s - loss: 0.1041 - binary_accuracy: 0.857327636/27636 [==============================] - 41s 1ms/step - loss: 0.1062 - binary_accuracy: 0.8537\n",
      "Epoch 72/100\n",
      "27636/27636 [==============================] - 41s 1ms/step - loss: 0.1048 - binary_accuracy: 0.8560\n",
      "Epoch 73/100\n",
      "18304/27636 [==================>...........] - ETA: 13s - loss: 0.1057 - binary_accuracy: 0.854527636/27636 [==============================] - 41s 1ms/step - loss: 0.1049 - binary_accuracy: 0.8559\n",
      "Epoch 74/100\n",
      "27636/27636 [==============================] - 41s 1ms/step - loss: 0.1039 - binary_accuracy: 0.8582\n",
      "Epoch 75/100\n",
      "18304/27636 [==================>...........] - ETA: 13s - loss: 0.1013 - binary_accuracy: 0.860327636/27636 [==============================] - 41s 1ms/step - loss: 0.1023 - binary_accuracy: 0.8597\n",
      "Epoch 76/100\n",
      "27636/27636 [==============================] - 41s 1ms/step - loss: 0.1025 - binary_accuracy: 0.8595\n",
      "Epoch 77/100\n",
      "18304/27636 [==================>...........] - ETA: 13s - loss: 0.1013 - binary_accuracy: 0.860127636/27636 [==============================] - 41s 1ms/step - loss: 0.1026 - binary_accuracy: 0.8577\n",
      "Epoch 78/100\n",
      "27636/27636 [==============================] - 41s 1ms/step - loss: 0.1030 - binary_accuracy: 0.8596\n",
      "Epoch 79/100\n",
      "18176/27636 [==================>...........] - ETA: 14s - loss: 0.1022 - binary_accuracy: 0.862527636/27636 [==============================] - 41s 1ms/step - loss: 0.1017 - binary_accuracy: 0.8623\n",
      "Epoch 80/100\n",
      "27636/27636 [==============================] - 41s 1ms/step - loss: 0.1020 - binary_accuracy: 0.8592\n",
      "Epoch 81/100\n",
      "18432/27636 [===================>..........] - ETA: 13s - loss: 0.1010 - binary_accuracy: 0.862327636/27636 [==============================] - 41s 1ms/step - loss: 0.1010 - binary_accuracy: 0.8612\n",
      "Epoch 82/100\n",
      "27636/27636 [==============================] - 41s 1ms/step - loss: 0.1005 - binary_accuracy: 0.8627\n",
      "Epoch 83/100\n",
      "18432/27636 [===================>..........] - ETA: 13s - loss: 0.1020 - binary_accuracy: 0.860127636/27636 [==============================] - 41s 1ms/step - loss: 0.1016 - binary_accuracy: 0.8616\n",
      "Epoch 84/100\n",
      "27636/27636 [==============================] - 41s 1ms/step - loss: 0.1002 - binary_accuracy: 0.8639\n",
      "Epoch 85/100\n",
      "18304/27636 [==================>...........] - ETA: 13s - loss: 0.0987 - binary_accuracy: 0.864927636/27636 [==============================] - 41s 1ms/step - loss: 0.0985 - binary_accuracy: 0.8651\n",
      "Epoch 86/100\n",
      "27636/27636 [==============================] - 41s 1ms/step - loss: 0.0992 - binary_accuracy: 0.8653\n",
      "Epoch 87/100\n",
      "18560/27636 [===================>..........] - ETA: 13s - loss: 0.0978 - binary_accuracy: 0.865827636/27636 [==============================] - 41s 1ms/step - loss: 0.0986 - binary_accuracy: 0.8646\n",
      "Epoch 88/100\n",
      "27636/27636 [==============================] - 41s 1ms/step - loss: 0.0980 - binary_accuracy: 0.8668\n",
      "Epoch 89/100\n",
      "18432/27636 [===================>..........] - ETA: 13s - loss: 0.0972 - binary_accuracy: 0.869127636/27636 [==============================] - 41s 1ms/step - loss: 0.0968 - binary_accuracy: 0.8695\n",
      "Epoch 90/100\n",
      "27636/27636 [==============================] - 41s 1ms/step - loss: 0.0963 - binary_accuracy: 0.8684\n",
      "Epoch 91/100\n",
      "18432/27636 [===================>..........] - ETA: 13s - loss: 0.0971 - binary_accuracy: 0.867727636/27636 [==============================] - 41s 1ms/step - loss: 0.0975 - binary_accuracy: 0.8670\n",
      "Epoch 92/100\n",
      "27636/27636 [==============================] - 41s 1ms/step - loss: 0.0964 - binary_accuracy: 0.8691\n",
      "Epoch 93/100\n",
      "18688/27636 [===================>..........] - ETA: 13s - loss: 0.0918 - binary_accuracy: 0.876427636/27636 [==============================] - 41s 1ms/step - loss: 0.0947 - binary_accuracy: 0.8721\n",
      "Epoch 94/100\n",
      "27636/27636 [==============================] - 41s 1ms/step - loss: 0.0951 - binary_accuracy: 0.8702\n",
      "Epoch 95/100\n",
      "13568/27636 [=============>................] - ETA: 20s - loss: 0.0947 - binary_accuracy: 0.8712"
     ]
    }
   ],
   "source": [
    "lstm_out = 100\n",
    "batch_size = 128\n",
    "\n",
    "model = Sequential()\n",
    "model.add(LSTM(lstm_out, input_shape=(X.shape[1], X.shape[2]), dropout_U = 0.2, dropout_W = 0.2))\n",
    "model.add(Dense(1,activation='sigmoid'))\n",
    "model.compile(loss='mean_squared_error',\n",
    "              optimizer='adam',\n",
    "              metrics=['binary_accuracy'])\n",
    "print(model.summary())\n",
    "history128 = model.fit(X_train, y_train, batch_size = batch_size, nb_epoch = 100)\n"
   ]
  },
  {
   "cell_type": "code",
   "execution_count": 96,
   "metadata": {
    "colab": {
     "autoexec": {
      "startup": false,
      "wait_interval": 0
     },
     "base_uri": "https://localhost:8080/",
     "height": 298,
     "output_extras": [
      {
       "item_id": 1
      }
     ]
    },
    "colab_type": "code",
    "executionInfo": {
     "elapsed": 890,
     "status": "ok",
     "timestamp": 1521491968820,
     "user": {
      "displayName": "Ala Bayoudh",
      "photoUrl": "https://lh3.googleusercontent.com/a/default-user=s128",
      "userId": "112506902794522806974"
     },
     "user_tz": -120
    },
    "id": "4-VvZYyp_F9G",
    "outputId": "8066bcda-2b05-4e6c-fa60-a0430b492365"
   },
   "outputs": [
    {
     "data": {
      "image/png": "[encoded data removed]",
      "text/plain": [
       "<matplotlib.figure.Figure at 0x7fabfb19d9b0>"
      ]
     },
     "metadata": {
      "tags": []
     },
     "output_type": "display_data"
    }
   ],
   "source": [
    "plt.plot(history128.history['loss'])\n",
    "plt.title('model loss')\n",
    "plt.ylabel('loss')\n",
    "plt.xlabel('epoch')\n",
    "plt.legend(['train'], loc='upper left')\n",
    "plt.show()"
   ]
  },
  {
   "cell_type": "code",
   "execution_count": 97,
   "metadata": {
    "colab": {
     "autoexec": {
      "startup": false,
      "wait_interval": 0
     },
     "base_uri": "https://localhost:8080/",
     "height": 36,
     "output_extras": [
      {
       "item_id": 29
      }
     ]
    },
    "colab_type": "code",
    "executionInfo": {
     "elapsed": 8202,
     "status": "ok",
     "timestamp": 1521492023412,
     "user": {
      "displayName": "Ala Bayoudh",
      "photoUrl": "https://lh3.googleusercontent.com/a/default-user=s128",
      "userId": "112506902794522806974"
     },
     "user_tz": -120
    },
    "id": "rSkrb30r_T-C",
    "outputId": "6fbfcb7d-d5dc-4ee6-f70b-a427dd393b6e"
   },
   "outputs": [
    {
     "name": "stdout",
     "output_type": "stream",
     "text": [
      "4878/4878 [==============================] - 8s 2ms/step\n"
     ]
    }
   ],
   "source": [
    "score128 = model.evaluate(np.array(X_val),y_val)"
   ]
  },
  {
   "cell_type": "markdown",
   "metadata": {
    "colab_type": "text",
    "id": "N8jXuDg8_ruM"
   },
   "source": [
    "### 79% on validation best performence until now"
   ]
  },
  {
   "cell_type": "code",
   "execution_count": 98,
   "metadata": {
    "colab": {
     "autoexec": {
      "startup": false,
      "wait_interval": 0
     },
     "base_uri": "https://localhost:8080/",
     "height": 36,
     "output_extras": [
      {
       "item_id": 1
      }
     ]
    },
    "colab_type": "code",
    "executionInfo": {
     "elapsed": 548,
     "status": "ok",
     "timestamp": 1521492032112,
     "user": {
      "displayName": "Ala Bayoudh",
      "photoUrl": "https://lh3.googleusercontent.com/a/default-user=s128",
      "userId": "112506902794522806974"
     },
     "user_tz": -120
    },
    "id": "hZOAqJJZ_eX6",
    "outputId": "11cbd8aa-7f14-4670-ec2c-c3d2f445b627"
   },
   "outputs": [
    {
     "data": {
      "text/plain": [
       "[0.14789183973019707, 0.7939729397782735]"
      ]
     },
     "execution_count": 98,
     "metadata": {
      "tags": []
     },
     "output_type": "execute_result"
    }
   ],
   "source": [
    "score128"
   ]
  },
  {
   "cell_type": "markdown",
   "metadata": {
    "colab_type": "text",
    "id": "Xxu4D5rH_9rW"
   },
   "source": [
    "### Let's try on test data now\n",
    "-  with all test exemples except one to see if the model can predict one exemple at a time\n",
    "-  we keep the last exemple of test"
   ]
  },
  {
   "cell_type": "code",
   "execution_count": 104,
   "metadata": {
    "colab": {
     "autoexec": {
      "startup": false,
      "wait_interval": 0
     },
     "base_uri": "https://localhost:8080/",
     "height": 36,
     "output_extras": [
      {
       "item_id": 1
      }
     ]
    },
    "colab_type": "code",
    "executionInfo": {
     "elapsed": 570,
     "status": "ok",
     "timestamp": 1521492395870,
     "user": {
      "displayName": "Ala Bayoudh",
      "photoUrl": "https://lh3.googleusercontent.com/a/default-user=s128",
      "userId": "112506902794522806974"
     },
     "user_tz": -120
    },
    "id": "nf8buC8jAuF0",
    "outputId": "fcfee3df-d87b-4620-e0aa-e83e9b30de21"
   },
   "outputs": [
    {
     "data": {
      "text/plain": [
       "5737"
      ]
     },
     "execution_count": 104,
     "metadata": {
      "tags": []
     },
     "output_type": "execute_result"
    }
   ],
   "source": [
    "len(X_test[:-1])"
   ]
  },
  {
   "cell_type": "code",
   "execution_count": 105,
   "metadata": {
    "colab": {
     "autoexec": {
      "startup": false,
      "wait_interval": 0
     },
     "base_uri": "https://localhost:8080/",
     "height": 36,
     "output_extras": [
      {
       "item_id": 34
      }
     ]
    },
    "colab_type": "code",
    "executionInfo": {
     "elapsed": 9212,
     "status": "ok",
     "timestamp": 1521492413540,
     "user": {
      "displayName": "Ala Bayoudh",
      "photoUrl": "https://lh3.googleusercontent.com/a/default-user=s128",
      "userId": "112506902794522806974"
     },
     "user_tz": -120
    },
    "id": "c4wUFptX_13i",
    "outputId": "3cb3c497-1fee-40a3-9c91-3a537d2325a0"
   },
   "outputs": [
    {
     "name": "stdout",
     "output_type": "stream",
     "text": [
      "5737/5737 [==============================] - 9s 2ms/step\n"
     ]
    }
   ],
   "source": [
    "score128_test = model.evaluate(np.array(X_test[:-1]),y_test[:-1])"
   ]
  },
  {
   "cell_type": "code",
   "execution_count": 106,
   "metadata": {
    "colab": {
     "autoexec": {
      "startup": false,
      "wait_interval": 0
     },
     "base_uri": "https://localhost:8080/",
     "height": 36,
     "output_extras": [
      {
       "item_id": 1
      }
     ]
    },
    "colab_type": "code",
    "executionInfo": {
     "elapsed": 600,
     "status": "ok",
     "timestamp": 1521492417240,
     "user": {
      "displayName": "Ala Bayoudh",
      "photoUrl": "https://lh3.googleusercontent.com/a/default-user=s128",
      "userId": "112506902794522806974"
     },
     "user_tz": -120
    },
    "id": "EXpMtQOsAnLW",
    "outputId": "de8b4dc5-540a-42ad-b814-add2a26a84fa"
   },
   "outputs": [
    {
     "data": {
      "text/plain": [
       "[0.14900220963043556, 0.7937946662226267]"
      ]
     },
     "execution_count": 106,
     "metadata": {
      "tags": []
     },
     "output_type": "execute_result"
    }
   ],
   "source": [
    "score128_test"
   ]
  },
  {
   "cell_type": "code",
   "execution_count": 109,
   "metadata": {
    "colab": {
     "autoexec": {
      "startup": false,
      "wait_interval": 0
     },
     "base_uri": "https://localhost:8080/",
     "height": 36,
     "output_extras": [
      {
       "item_id": 1
      }
     ]
    },
    "colab_type": "code",
    "executionInfo": {
     "elapsed": 1472,
     "status": "ok",
     "timestamp": 1521492485392,
     "user": {
      "displayName": "Ala Bayoudh",
      "photoUrl": "https://lh3.googleusercontent.com/a/default-user=s128",
      "userId": "112506902794522806974"
     },
     "user_tz": -120
    },
    "id": "UQYLn0q_BAM8",
    "outputId": "366570fb-ab50-461b-9035-42f1dba2784f"
   },
   "outputs": [
    {
     "name": "stdout",
     "output_type": "stream",
     "text": [
      "\r",
      "1/1 [==============================] - 0s 44ms/step\n"
     ]
    }
   ],
   "source": [
    "score128_test_one = model.evaluate(np.array(X_test[-1:]),y_test[-1:])"
   ]
  },
  {
   "cell_type": "code",
   "execution_count": 110,
   "metadata": {
    "colab": {
     "autoexec": {
      "startup": false,
      "wait_interval": 0
     },
     "base_uri": "https://localhost:8080/",
     "height": 36,
     "output_extras": [
      {
       "item_id": 1
      }
     ]
    },
    "colab_type": "code",
    "executionInfo": {
     "elapsed": 500,
     "status": "ok",
     "timestamp": 1521492493418,
     "user": {
      "displayName": "Ala Bayoudh",
      "photoUrl": "https://lh3.googleusercontent.com/a/default-user=s128",
      "userId": "112506902794522806974"
     },
     "user_tz": -120
    },
    "id": "4HTUpg9SBPLI",
    "outputId": "981b5b12-8c5e-4046-9c57-e7e354ab9bdf"
   },
   "outputs": [
    {
     "data": {
      "text/plain": [
       "[0.1409723162651062, 1.0]"
      ]
     },
     "execution_count": 110,
     "metadata": {
      "tags": []
     },
     "output_type": "execute_result"
    }
   ],
   "source": [
    "score128_test_one"
   ]
  },
  {
   "cell_type": "code",
   "execution_count": 0,
   "metadata": {
    "colab": {
     "autoexec": {
      "startup": false,
      "wait_interval": 0
     }
    },
    "colab_type": "code",
    "collapsed": true,
    "id": "UgqWNS8QEacz"
   },
   "outputs": [],
   "source": [
    "predict_128 = model.predict_classes(np.array(X_test[:-1]))"
   ]
  },
  {
   "cell_type": "code",
   "execution_count": 122,
   "metadata": {
    "colab": {
     "autoexec": {
      "startup": false,
      "wait_interval": 0
     },
     "base_uri": "https://localhost:8080/",
     "height": 136,
     "output_extras": [
      {
       "item_id": 1
      }
     ]
    },
    "colab_type": "code",
    "executionInfo": {
     "elapsed": 650,
     "status": "ok",
     "timestamp": 1521493379449,
     "user": {
      "displayName": "Ala Bayoudh",
      "photoUrl": "https://lh3.googleusercontent.com/a/default-user=s128",
      "userId": "112506902794522806974"
     },
     "user_tz": -120
    },
    "id": "KnmQyAQ_EnGw",
    "outputId": "6468b121-9ff7-4003-8567-124949560d80"
   },
   "outputs": [
    {
     "data": {
      "text/plain": [
       "array([[0],\n",
       "       [1],\n",
       "       [0],\n",
       "       ...,\n",
       "       [1],\n",
       "       [1],\n",
       "       [0]], dtype=int32)"
      ]
     },
     "execution_count": 122,
     "metadata": {
      "tags": []
     },
     "output_type": "execute_result"
    }
   ],
   "source": [
    "predict_128"
   ]
  },
  {
   "cell_type": "code",
   "execution_count": 0,
   "metadata": {
    "colab": {
     "autoexec": {
      "startup": false,
      "wait_interval": 0
     }
    },
    "colab_type": "code",
    "collapsed": true,
    "id": "TziykSk3EpwQ"
   },
   "outputs": [],
   "source": [
    "predict_128_one = model.predict_classes(np.array(X_test[-1:]))"
   ]
  },
  {
   "cell_type": "code",
   "execution_count": 126,
   "metadata": {
    "colab": {
     "autoexec": {
      "startup": false,
      "wait_interval": 0
     },
     "base_uri": "https://localhost:8080/",
     "height": 34,
     "output_extras": [
      {
       "item_id": 1
      }
     ]
    },
    "colab_type": "code",
    "executionInfo": {
     "elapsed": 1006,
     "status": "ok",
     "timestamp": 1521493447827,
     "user": {
      "displayName": "Ala Bayoudh",
      "photoUrl": "https://lh3.googleusercontent.com/a/default-user=s128",
      "userId": "112506902794522806974"
     },
     "user_tz": -120
    },
    "id": "dS7fK6mKEttG",
    "outputId": "0479421a-2048-43c3-d026-73c94e3b9d5c",
    "scrolled": true
   },
   "outputs": [
    {
     "name": "stdout",
     "output_type": "stream",
     "text": [
      "predicted : [[0]] true label [0]\n"
     ]
    }
   ],
   "source": [
    "print(\"predicted :\",predict_128_one,\"true label\",y_test[-1:])"
   ]
  },
  {
   "cell_type": "markdown",
   "metadata": {},
   "source": [
    "## Save Model"
   ]
  },
  {
   "cell_type": "code",
   "execution_count": 0,
   "metadata": {
    "colab": {
     "autoexec": {
      "startup": false,
      "wait_interval": 0
     }
    },
    "colab_type": "code",
    "collapsed": true,
    "id": "-0ctGrjYBp3S"
   },
   "outputs": [],
   "source": [
    "from keras.models import load_model\n",
    "\n",
    "model.save('LSTM_Model.h5')  # creates a HDF5 file 'my_model.h5'\n",
    "#del model  # deletes the existing model\n",
    "\n",
    "# returns a compiled model\n",
    "# identical to the previous one\n",
    "model = load_model('LSTM_Model.h5')"
   ]
  },
  {
   "cell_type": "code",
   "execution_count": 0,
   "metadata": {
    "colab": {
     "autoexec": {
      "startup": false,
      "wait_interval": 0
     }
    },
    "colab_type": "code",
    "collapsed": true,
    "id": "WqfaPvoSCnum"
   },
   "outputs": [],
   "source": [
    "from google.colab import files\n",
    "files.download('LSTM_Model.h5')"
   ]
  }
 ],
 "metadata": {
  "accelerator": "GPU",
  "colab": {
   "default_view": {},
   "name": "SentimentAnalysisClassificationWithLSTM.ipynb",
   "provenance": [],
   "version": "0.3.2",
   "views": {}
  },
  "kernelspec": {
   "display_name": "Python 3",
   "language": "python",
   "name": "python3"
  },
  "language_info": {
   "codemirror_mode": {
    "name": "ipython",
    "version": 3
   },
   "file_extension": ".py",
   "mimetype": "text/x-python",
   "name": "python",
   "nbconvert_exporter": "python",
   "pygments_lexer": "ipython3",
   "version": "3.5.4"
  }
 },
 "nbformat": 4,
 "nbformat_minor": 1
}
